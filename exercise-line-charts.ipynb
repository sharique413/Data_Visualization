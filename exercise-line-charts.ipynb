{
 "cells": [
  {
   "cell_type": "markdown",
   "id": "optical-copper",
   "metadata": {
    "papermill": {
     "duration": 0.015761,
     "end_time": "2021-05-23T04:29:24.254696",
     "exception": false,
     "start_time": "2021-05-23T04:29:24.238935",
     "status": "completed"
    },
    "tags": []
   },
   "source": [
    "**This notebook is an exercise in the [Data Visualization](https://www.kaggle.com/learn/data-visualization) course.  You can reference the tutorial at [this link](https://www.kaggle.com/alexisbcook/line-charts).**\n",
    "\n",
    "---\n"
   ]
  },
  {
   "cell_type": "markdown",
   "id": "curious-capacity",
   "metadata": {
    "papermill": {
     "duration": 0.014936,
     "end_time": "2021-05-23T04:29:24.284542",
     "exception": false,
     "start_time": "2021-05-23T04:29:24.269606",
     "status": "completed"
    },
    "tags": []
   },
   "source": [
    "In this exercise, you will use your new knowledge to propose a solution to a real-world scenario. To succeed, you will need to import data into Python, answer questions using the data, and generate **line charts** to understand patterns in the data.\n",
    "\n",
    "## Scenario\n",
    "\n",
    "You have recently been hired to manage the museums in the City of Los Angeles. Your first project focuses on the four museums pictured in the images below.\n",
    "\n",
    "![ex1_museums](https://i.imgur.com/pFYL8J1.png)\n",
    "\n",
    "You will leverage data from the Los Angeles [Data Portal](https://data.lacity.org/) that tracks monthly visitors to each museum.  \n",
    "\n",
    "![ex1_xlsx](https://i.imgur.com/mGWYlym.png)\n",
    "\n",
    "## Setup\n",
    "\n",
    "Run the next cell to import and configure the Python libraries that you need to complete the exercise."
   ]
  },
  {
   "cell_type": "code",
   "execution_count": 1,
   "id": "subjective-consolidation",
   "metadata": {
    "execution": {
     "iopub.execute_input": "2021-05-23T04:29:24.321591Z",
     "iopub.status.busy": "2021-05-23T04:29:24.320953Z",
     "iopub.status.idle": "2021-05-23T04:29:25.352626Z",
     "shell.execute_reply": "2021-05-23T04:29:25.353501Z"
    },
    "papermill": {
     "duration": 1.054707,
     "end_time": "2021-05-23T04:29:25.353877",
     "exception": false,
     "start_time": "2021-05-23T04:29:24.299170",
     "status": "completed"
    },
    "tags": []
   },
   "outputs": [
    {
     "name": "stdout",
     "output_type": "stream",
     "text": [
      "Setup Complete\n"
     ]
    }
   ],
   "source": [
    "import pandas as pd\n",
    "pd.plotting.register_matplotlib_converters()\n",
    "import matplotlib.pyplot as plt\n",
    "%matplotlib inline\n",
    "import seaborn as sns\n",
    "print(\"Setup Complete\")"
   ]
  },
  {
   "cell_type": "markdown",
   "id": "african-finish",
   "metadata": {
    "papermill": {
     "duration": 0.014726,
     "end_time": "2021-05-23T04:29:25.385362",
     "exception": false,
     "start_time": "2021-05-23T04:29:25.370636",
     "status": "completed"
    },
    "tags": []
   },
   "source": [
    "The questions below will give you feedback on your work. Run the following cell to set up the feedback system."
   ]
  },
  {
   "cell_type": "code",
   "execution_count": 2,
   "id": "excess-nutrition",
   "metadata": {
    "execution": {
     "iopub.execute_input": "2021-05-23T04:29:25.421240Z",
     "iopub.status.busy": "2021-05-23T04:29:25.420500Z",
     "iopub.status.idle": "2021-05-23T04:29:25.494374Z",
     "shell.execute_reply": "2021-05-23T04:29:25.493622Z"
    },
    "papermill": {
     "duration": 0.094161,
     "end_time": "2021-05-23T04:29:25.494521",
     "exception": false,
     "start_time": "2021-05-23T04:29:25.400360",
     "status": "completed"
    },
    "tags": []
   },
   "outputs": [
    {
     "name": "stdout",
     "output_type": "stream",
     "text": [
      "Setup Complete\n"
     ]
    }
   ],
   "source": [
    "# Set up code checking\n",
    "import os\n",
    "if not os.path.exists(\"../input/museum_visitors.csv\"):\n",
    "    os.symlink(\"../input/data-for-datavis/museum_visitors.csv\", \"../input/museum_visitors.csv\") \n",
    "from learntools.core import binder\n",
    "binder.bind(globals())\n",
    "from learntools.data_viz_to_coder.ex2 import *\n",
    "print(\"Setup Complete\")"
   ]
  },
  {
   "cell_type": "markdown",
   "id": "chubby-atlantic",
   "metadata": {
    "papermill": {
     "duration": 0.016657,
     "end_time": "2021-05-23T04:29:25.526957",
     "exception": false,
     "start_time": "2021-05-23T04:29:25.510300",
     "status": "completed"
    },
    "tags": []
   },
   "source": [
    "## Step 1: Load the data\n",
    "\n",
    "Your first assignment is to read the LA Museum Visitors data file into `museum_data`.  Note that:\n",
    "- The filepath to the dataset is stored as `museum_filepath`.  Please **do not** change the provided value of the filepath.\n",
    "- The name of the column to use as row labels is `\"Date\"`.  (This can be seen in cell A1 when the file is opened in Excel.)\n",
    "\n",
    "To help with this, you may find it useful to revisit some relevant code from the tutorial, which we have pasted below:\n",
    "\n",
    "```python\n",
    "# Path of the file to read\n",
    "spotify_filepath = \"../input/spotify.csv\"\n",
    "\n",
    "# Read the file into a variable spotify_data\n",
    "spotify_data = pd.read_csv(spotify_filepath, index_col=\"Date\", parse_dates=True)\n",
    "```\n",
    "\n",
    "The code you need to write now looks very similar!"
   ]
  },
  {
   "cell_type": "code",
   "execution_count": 3,
   "id": "considerable-attribute",
   "metadata": {
    "execution": {
     "iopub.execute_input": "2021-05-23T04:29:25.564497Z",
     "iopub.status.busy": "2021-05-23T04:29:25.563482Z",
     "iopub.status.idle": "2021-05-23T04:29:25.579375Z",
     "shell.execute_reply": "2021-05-23T04:29:25.578846Z"
    },
    "papermill": {
     "duration": 0.036992,
     "end_time": "2021-05-23T04:29:25.579516",
     "exception": false,
     "start_time": "2021-05-23T04:29:25.542524",
     "status": "completed"
    },
    "tags": []
   },
   "outputs": [
    {
     "data": {
      "application/javascript": [
       "parent.postMessage({\"jupyterEvent\": \"custom.exercise_interaction\", \"data\": {\"outcomeType\": 1, \"valueTowardsCompletion\": 0.3333333333333333, \"interactionType\": 1, \"questionType\": 1, \"questionId\": \"1_LoadMuseumData\", \"learnToolsVersion\": \"0.3.4\", \"failureMessage\": \"\", \"exceptionClass\": \"\", \"trace\": \"\"}}, \"*\")"
      ],
      "text/plain": [
       "<IPython.core.display.Javascript object>"
      ]
     },
     "metadata": {},
     "output_type": "display_data"
    },
    {
     "data": {
      "text/markdown": [
       "<span style=\"color:#33cc33\">Correct</span>"
      ],
      "text/plain": [
       "Correct"
      ]
     },
     "metadata": {},
     "output_type": "display_data"
    }
   ],
   "source": [
    "# Path of the file to read\n",
    "museum_filepath = \"../input/museum_visitors.csv\"\n",
    "\n",
    "# Fill in the line below to read the file into a variable museum_data\n",
    "museum_data = pd.read_csv(museum_filepath, index_col=\"Date\", parse_dates=True)\n",
    "\n",
    "# Run the line below with no changes to check that you've loaded the data correctly\n",
    "step_1.check()"
   ]
  },
  {
   "cell_type": "code",
   "execution_count": 4,
   "id": "front-retirement",
   "metadata": {
    "execution": {
     "iopub.execute_input": "2021-05-23T04:29:25.616844Z",
     "iopub.status.busy": "2021-05-23T04:29:25.615900Z",
     "iopub.status.idle": "2021-05-23T04:29:25.619385Z",
     "shell.execute_reply": "2021-05-23T04:29:25.619822Z"
    },
    "papermill": {
     "duration": 0.023667,
     "end_time": "2021-05-23T04:29:25.619989",
     "exception": false,
     "start_time": "2021-05-23T04:29:25.596322",
     "status": "completed"
    },
    "tags": []
   },
   "outputs": [],
   "source": [
    "# Uncomment the line below to receive a hint\n",
    "#step_1.hint()\n",
    "# Uncomment the line below to see the solution\n",
    "#step_1.solution()"
   ]
  },
  {
   "cell_type": "markdown",
   "id": "iraqi-challenge",
   "metadata": {
    "papermill": {
     "duration": 0.016399,
     "end_time": "2021-05-23T04:29:25.653394",
     "exception": false,
     "start_time": "2021-05-23T04:29:25.636995",
     "status": "completed"
    },
    "tags": []
   },
   "source": [
    "## Step 2: Review the data\n",
    "\n",
    "Use a Python command to print the last 5 rows of the data."
   ]
  },
  {
   "cell_type": "code",
   "execution_count": 5,
   "id": "according-therapy",
   "metadata": {
    "execution": {
     "iopub.execute_input": "2021-05-23T04:29:25.691037Z",
     "iopub.status.busy": "2021-05-23T04:29:25.689913Z",
     "iopub.status.idle": "2021-05-23T04:29:25.708658Z",
     "shell.execute_reply": "2021-05-23T04:29:25.707955Z"
    },
    "papermill": {
     "duration": 0.038797,
     "end_time": "2021-05-23T04:29:25.708810",
     "exception": false,
     "start_time": "2021-05-23T04:29:25.670013",
     "status": "completed"
    },
    "tags": []
   },
   "outputs": [
    {
     "data": {
      "text/html": [
       "<div>\n",
       "<style scoped>\n",
       "    .dataframe tbody tr th:only-of-type {\n",
       "        vertical-align: middle;\n",
       "    }\n",
       "\n",
       "    .dataframe tbody tr th {\n",
       "        vertical-align: top;\n",
       "    }\n",
       "\n",
       "    .dataframe thead th {\n",
       "        text-align: right;\n",
       "    }\n",
       "</style>\n",
       "<table border=\"1\" class=\"dataframe\">\n",
       "  <thead>\n",
       "    <tr style=\"text-align: right;\">\n",
       "      <th></th>\n",
       "      <th>Avila Adobe</th>\n",
       "      <th>Firehouse Museum</th>\n",
       "      <th>Chinese American Museum</th>\n",
       "      <th>America Tropical Interpretive Center</th>\n",
       "    </tr>\n",
       "    <tr>\n",
       "      <th>Date</th>\n",
       "      <th></th>\n",
       "      <th></th>\n",
       "      <th></th>\n",
       "      <th></th>\n",
       "    </tr>\n",
       "  </thead>\n",
       "  <tbody>\n",
       "    <tr>\n",
       "      <th>2018-07-01</th>\n",
       "      <td>23136</td>\n",
       "      <td>4191</td>\n",
       "      <td>2620</td>\n",
       "      <td>4718</td>\n",
       "    </tr>\n",
       "    <tr>\n",
       "      <th>2018-08-01</th>\n",
       "      <td>20815</td>\n",
       "      <td>4866</td>\n",
       "      <td>2409</td>\n",
       "      <td>3891</td>\n",
       "    </tr>\n",
       "    <tr>\n",
       "      <th>2018-09-01</th>\n",
       "      <td>21020</td>\n",
       "      <td>4956</td>\n",
       "      <td>2146</td>\n",
       "      <td>3180</td>\n",
       "    </tr>\n",
       "    <tr>\n",
       "      <th>2018-10-01</th>\n",
       "      <td>19280</td>\n",
       "      <td>4622</td>\n",
       "      <td>2364</td>\n",
       "      <td>3775</td>\n",
       "    </tr>\n",
       "    <tr>\n",
       "      <th>2018-11-01</th>\n",
       "      <td>17163</td>\n",
       "      <td>4082</td>\n",
       "      <td>2385</td>\n",
       "      <td>4562</td>\n",
       "    </tr>\n",
       "  </tbody>\n",
       "</table>\n",
       "</div>"
      ],
      "text/plain": [
       "            Avila Adobe  Firehouse Museum  Chinese American Museum  \\\n",
       "Date                                                                 \n",
       "2018-07-01        23136              4191                     2620   \n",
       "2018-08-01        20815              4866                     2409   \n",
       "2018-09-01        21020              4956                     2146   \n",
       "2018-10-01        19280              4622                     2364   \n",
       "2018-11-01        17163              4082                     2385   \n",
       "\n",
       "            America Tropical Interpretive Center  \n",
       "Date                                              \n",
       "2018-07-01                                  4718  \n",
       "2018-08-01                                  3891  \n",
       "2018-09-01                                  3180  \n",
       "2018-10-01                                  3775  \n",
       "2018-11-01                                  4562  "
      ]
     },
     "execution_count": 5,
     "metadata": {},
     "output_type": "execute_result"
    }
   ],
   "source": [
    "# Print the last five rows of the data \n",
    "museum_data.tail()\n",
    "# Your code here"
   ]
  },
  {
   "cell_type": "markdown",
   "id": "certain-denial",
   "metadata": {
    "papermill": {
     "duration": 0.017126,
     "end_time": "2021-05-23T04:29:25.743647",
     "exception": false,
     "start_time": "2021-05-23T04:29:25.726521",
     "status": "completed"
    },
    "tags": []
   },
   "source": [
    "The last row (for `2018-11-01`) tracks the number of visitors to each museum in November 2018, the next-to-last row (for `2018-10-01`) tracks the number of visitors to each museum in October 2018, _and so on_.\n",
    "\n",
    "Use the last 5 rows of the data to answer the questions below."
   ]
  },
  {
   "cell_type": "code",
   "execution_count": 6,
   "id": "racial-forth",
   "metadata": {
    "execution": {
     "iopub.execute_input": "2021-05-23T04:29:25.785414Z",
     "iopub.status.busy": "2021-05-23T04:29:25.784100Z",
     "iopub.status.idle": "2021-05-23T04:29:25.789754Z",
     "shell.execute_reply": "2021-05-23T04:29:25.790276Z"
    },
    "papermill": {
     "duration": 0.028962,
     "end_time": "2021-05-23T04:29:25.790456",
     "exception": false,
     "start_time": "2021-05-23T04:29:25.761494",
     "status": "completed"
    },
    "tags": []
   },
   "outputs": [
    {
     "data": {
      "application/javascript": [
       "parent.postMessage({\"jupyterEvent\": \"custom.exercise_interaction\", \"data\": {\"outcomeType\": 1, \"valueTowardsCompletion\": 0.3333333333333333, \"interactionType\": 1, \"questionType\": 1, \"questionId\": \"2_ReviewData\", \"learnToolsVersion\": \"0.3.4\", \"failureMessage\": \"\", \"exceptionClass\": \"\", \"trace\": \"\"}}, \"*\")"
      ],
      "text/plain": [
       "<IPython.core.display.Javascript object>"
      ]
     },
     "metadata": {},
     "output_type": "display_data"
    },
    {
     "data": {
      "text/markdown": [
       "<span style=\"color:#33cc33\">Correct</span>"
      ],
      "text/plain": [
       "Correct"
      ]
     },
     "metadata": {},
     "output_type": "display_data"
    }
   ],
   "source": [
    "# Fill in the line below: How many visitors did the Chinese American Museum \n",
    "# receive in July 2018?\n",
    "ca_museum_jul18 = 2620\n",
    "\n",
    "# Fill in the line below: In October 2018, how many more visitors did Avila \n",
    "# Adobe receive than the Firehouse Museum?\n",
    "avila_oct18 = 14658\n",
    "\n",
    "# Check your answers\n",
    "step_2.check()"
   ]
  },
  {
   "cell_type": "code",
   "execution_count": 7,
   "id": "stuck-stable",
   "metadata": {
    "execution": {
     "iopub.execute_input": "2021-05-23T04:29:25.832358Z",
     "iopub.status.busy": "2021-05-23T04:29:25.831596Z",
     "iopub.status.idle": "2021-05-23T04:29:25.834565Z",
     "shell.execute_reply": "2021-05-23T04:29:25.833979Z"
    },
    "papermill": {
     "duration": 0.025641,
     "end_time": "2021-05-23T04:29:25.834703",
     "exception": false,
     "start_time": "2021-05-23T04:29:25.809062",
     "status": "completed"
    },
    "tags": []
   },
   "outputs": [],
   "source": [
    "# Lines below will give you a hint or solution code\n",
    "#step_2.hint()\n",
    "#step_2.solution()"
   ]
  },
  {
   "cell_type": "markdown",
   "id": "beautiful-leisure",
   "metadata": {
    "papermill": {
     "duration": 0.019096,
     "end_time": "2021-05-23T04:29:25.872641",
     "exception": false,
     "start_time": "2021-05-23T04:29:25.853545",
     "status": "completed"
    },
    "tags": []
   },
   "source": [
    "## Step 3: Convince the museum board \n",
    "\n",
    "The Firehouse Museum claims they ran an event in 2014 that brought an incredible number of visitors, and that they should get extra budget to run a similar event again.  The other museums think these types of events aren't that important, and budgets should be split purely based on recent visitors on an average day.  \n",
    "\n",
    "To show the museum board how the event compared to regular traffic at each museum, create a line chart that shows how the number of visitors to each museum evolved over time.  Your figure should have four lines (one for each museum).\n",
    "\n",
    "> **(Optional) Note**: If you have some prior experience with plotting figures in Python, you might be familiar with the `plt.show()` command.  If you decide to use this command, please place it **after** the line of code that checks your answer (in this case, place it after `step_3.check()` below) -- otherwise, the checking code will return an error!"
   ]
  },
  {
   "cell_type": "code",
   "execution_count": 8,
   "id": "acquired-tourism",
   "metadata": {
    "execution": {
     "iopub.execute_input": "2021-05-23T04:29:25.917765Z",
     "iopub.status.busy": "2021-05-23T04:29:25.917079Z",
     "iopub.status.idle": "2021-05-23T04:29:26.329122Z",
     "shell.execute_reply": "2021-05-23T04:29:26.329632Z"
    },
    "papermill": {
     "duration": 0.438277,
     "end_time": "2021-05-23T04:29:26.329803",
     "exception": false,
     "start_time": "2021-05-23T04:29:25.891526",
     "status": "completed"
    },
    "tags": []
   },
   "outputs": [
    {
     "data": {
      "application/javascript": [
       "parent.postMessage({\"jupyterEvent\": \"custom.exercise_interaction\", \"data\": {\"outcomeType\": 1, \"valueTowardsCompletion\": 0.3333333333333333, \"interactionType\": 1, \"questionType\": 2, \"questionId\": \"3_PlotAll\", \"learnToolsVersion\": \"0.3.4\", \"failureMessage\": \"\", \"exceptionClass\": \"\", \"trace\": \"\"}}, \"*\")"
      ],
      "text/plain": [
       "<IPython.core.display.Javascript object>"
      ]
     },
     "metadata": {},
     "output_type": "display_data"
    },
    {
     "data": {
      "text/markdown": [
       "<span style=\"color:#33cc33\">Correct</span>"
      ],
      "text/plain": [
       "Correct"
      ]
     },
     "metadata": {},
     "output_type": "display_data"
    },
    {
     "data": {
      "image/png": "[encoded data removed]",
      "text/plain": [
       "<Figure size 864x432 with 1 Axes>"
      ]
     },
     "metadata": {
      "needs_background": "light"
     },
     "output_type": "display_data"
    }
   ],
   "source": [
    "# Line chart showing the number of visitors to each museum over time\n",
    "# Your code here\n",
    "plt.figure(figsize=(12,6))\n",
    "sns.lineplot(data=museum_data)\n",
    "plt.title(\"Monthly Visitors to los Angeles City Museums\")\n",
    "# Check your answer\n",
    "step_3.check()"
   ]
  },
  {
   "cell_type": "code",
   "execution_count": 9,
   "id": "velvet-messaging",
   "metadata": {
    "execution": {
     "iopub.execute_input": "2021-05-23T04:29:26.378976Z",
     "iopub.status.busy": "2021-05-23T04:29:26.378284Z",
     "iopub.status.idle": "2021-05-23T04:29:26.381821Z",
     "shell.execute_reply": "2021-05-23T04:29:26.382359Z"
    },
    "papermill": {
     "duration": 0.030058,
     "end_time": "2021-05-23T04:29:26.382552",
     "exception": false,
     "start_time": "2021-05-23T04:29:26.352494",
     "status": "completed"
    },
    "tags": []
   },
   "outputs": [],
   "source": [
    "# Lines below will give you a hint or solution code\n",
    "#step_3.hint()\n",
    "#step_3.solution_plot()"
   ]
  },
  {
   "cell_type": "markdown",
   "id": "better-saturn",
   "metadata": {
    "papermill": {
     "duration": 0.02192,
     "end_time": "2021-05-23T04:29:26.427455",
     "exception": false,
     "start_time": "2021-05-23T04:29:26.405535",
     "status": "completed"
    },
    "tags": []
   },
   "source": [
    "## Step 4: Assess seasonality\n",
    "\n",
    "When meeting with the employees at Avila Adobe, you hear that one major pain point is that the number of museum visitors varies greatly with the seasons, with low seasons (when the employees are perfectly staffed and happy) and also high seasons (when the employees are understaffed and stressed).  You realize that if you can predict these high and low seasons, you can plan ahead to hire some additional seasonal employees to help out with the extra work.\n",
    "\n",
    "#### Part A\n",
    "Create a line chart that shows how the number of visitors to Avila Adobe has evolved over time.  (_If your code returns an error, the first thing that you should check is that you've spelled the name of the column correctly!  You must write the name of the column exactly as it appears in the dataset._)"
   ]
  },
  {
   "cell_type": "code",
   "execution_count": 10,
   "id": "catholic-logan",
   "metadata": {
    "execution": {
     "iopub.execute_input": "2021-05-23T04:29:26.475423Z",
     "iopub.status.busy": "2021-05-23T04:29:26.474775Z",
     "iopub.status.idle": "2021-05-23T04:29:26.720144Z",
     "shell.execute_reply": "2021-05-23T04:29:26.719568Z"
    },
    "papermill": {
     "duration": 0.270502,
     "end_time": "2021-05-23T04:29:26.720284",
     "exception": false,
     "start_time": "2021-05-23T04:29:26.449782",
     "status": "completed"
    },
    "tags": []
   },
   "outputs": [
    {
     "name": "stdout",
     "output_type": "stream",
     "text": [
      "Thank you for creating a line chart!  To see how your code compares to the official solution, please use the code cell below.\n"
     ]
    },
    {
     "data": {
      "application/javascript": [
       "parent.postMessage({\"jupyterEvent\": \"custom.exercise_interaction\", \"data\": {\"outcomeType\": 1, \"valueTowardsCompletion\": 0.3333333333333333, \"interactionType\": 1, \"questionType\": 2, \"questionId\": \"4.1_PlotAvila\", \"learnToolsVersion\": \"0.3.4\", \"failureMessage\": \"\", \"exceptionClass\": \"\", \"trace\": \"\"}}, \"*\")"
      ],
      "text/plain": [
       "<IPython.core.display.Javascript object>"
      ]
     },
     "metadata": {},
     "output_type": "display_data"
    },
    {
     "data": {
      "text/markdown": [
       "<span style=\"color:#33cc33\">Correct</span>"
      ],
      "text/plain": [
       "Correct"
      ]
     },
     "metadata": {},
     "output_type": "display_data"
    },
    {
     "data": {
      "image/png": "[encoded data removed]",
      "text/plain": [
       "<Figure size 864x432 with 1 Axes>"
      ]
     },
     "metadata": {
      "needs_background": "light"
     },
     "output_type": "display_data"
    }
   ],
   "source": [
    "# Line plot showing the number of visitors to Avila Adobe over time\n",
    "# Your code here\n",
    "plt.figure(figsize=(12,6))\n",
    "plt.title(\"Monthly Visitors to Avila Adobe\")\n",
    "sns.lineplot(data=museum_data['Avila Adobe'])\n",
    "plt.xlabel(\"Date\")\n",
    "# Check your answer\n",
    "step_4.a.check()"
   ]
  },
  {
   "cell_type": "code",
   "execution_count": 11,
   "id": "rough-webster",
   "metadata": {
    "execution": {
     "iopub.execute_input": "2021-05-23T04:29:26.774967Z",
     "iopub.status.busy": "2021-05-23T04:29:26.774325Z",
     "iopub.status.idle": "2021-05-23T04:29:26.777497Z",
     "shell.execute_reply": "2021-05-23T04:29:26.776976Z"
    },
    "papermill": {
     "duration": 0.031924,
     "end_time": "2021-05-23T04:29:26.777632",
     "exception": false,
     "start_time": "2021-05-23T04:29:26.745708",
     "status": "completed"
    },
    "tags": []
   },
   "outputs": [],
   "source": [
    "# Lines below will give you a hint or solution code\n",
    "#step_4.a.hint()\n",
    "#step_4.a.solution_plot()"
   ]
  },
  {
   "cell_type": "markdown",
   "id": "federal-stable",
   "metadata": {
    "papermill": {
     "duration": 0.025008,
     "end_time": "2021-05-23T04:29:26.828146",
     "exception": false,
     "start_time": "2021-05-23T04:29:26.803138",
     "status": "completed"
    },
    "tags": []
   },
   "source": [
    "#### Part B\n",
    "\n",
    "Does Avila Adobe get more visitors:\n",
    "- in September-February (in LA, the fall and winter months), or \n",
    "- in March-August (in LA, the spring and summer)?  \n",
    "\n",
    "Using this information, when should the museum staff additional seasonal employees?"
   ]
  },
  {
   "cell_type": "code",
   "execution_count": 12,
   "id": "spiritual-importance",
   "metadata": {
    "execution": {
     "iopub.execute_input": "2021-05-23T04:29:26.883530Z",
     "iopub.status.busy": "2021-05-23T04:29:26.882738Z",
     "iopub.status.idle": "2021-05-23T04:29:26.885748Z",
     "shell.execute_reply": "2021-05-23T04:29:26.885142Z"
    },
    "papermill": {
     "duration": 0.032603,
     "end_time": "2021-05-23T04:29:26.885897",
     "exception": false,
     "start_time": "2021-05-23T04:29:26.853294",
     "status": "completed"
    },
    "tags": []
   },
   "outputs": [],
   "source": [
    "#step_4.b.hint()"
   ]
  },
  {
   "cell_type": "code",
   "execution_count": 13,
   "id": "accomplished-estimate",
   "metadata": {
    "execution": {
     "iopub.execute_input": "2021-05-23T04:29:26.941759Z",
     "iopub.status.busy": "2021-05-23T04:29:26.940906Z",
     "iopub.status.idle": "2021-05-23T04:29:26.947314Z",
     "shell.execute_reply": "2021-05-23T04:29:26.946769Z"
    },
    "papermill": {
     "duration": 0.036224,
     "end_time": "2021-05-23T04:29:26.947459",
     "exception": false,
     "start_time": "2021-05-23T04:29:26.911235",
     "status": "completed"
    },
    "tags": []
   },
   "outputs": [
    {
     "data": {
      "application/javascript": [
       "parent.postMessage({\"jupyterEvent\": \"custom.exercise_interaction\", \"data\": {\"interactionType\": 3, \"questionType\": 4, \"questionId\": \"4.2_ThinkAvila\", \"learnToolsVersion\": \"0.3.4\", \"valueTowardsCompletion\": 0.0, \"failureMessage\": \"\", \"exceptionClass\": \"\", \"trace\": \"\", \"outcomeType\": 4}}, \"*\")"
      ],
      "text/plain": [
       "<IPython.core.display.Javascript object>"
      ]
     },
     "metadata": {},
     "output_type": "display_data"
    },
    {
     "data": {
      "text/markdown": [
       "<span style=\"color:#33cc99\">Solution:</span> The line chart generally dips to relatively low values around the early part of each year (in December and January), and reaches its highest values in the middle of the year (especially around May and June).  Thus, Avila Adobe usually gets more visitors in March-August (or the spring and summer months).  With this in mind, Avila Adobe could definitely benefit from hiring more seasonal employees to help with the extra work in March-August (the spring and summer)!"
      ],
      "text/plain": [
       "Solution: The line chart generally dips to relatively low values around the early part of each year (in December and January), and reaches its highest values in the middle of the year (especially around May and June).  Thus, Avila Adobe usually gets more visitors in March-August (or the spring and summer months).  With this in mind, Avila Adobe could definitely benefit from hiring more seasonal employees to help with the extra work in March-August (the spring and summer)!"
      ]
     },
     "metadata": {},
     "output_type": "display_data"
    }
   ],
   "source": [
    "# Check your answer (Run this code cell to receive credit!)\n",
    "step_4.b.solution()"
   ]
  },
  {
   "cell_type": "markdown",
   "id": "minor-alfred",
   "metadata": {
    "papermill": {
     "duration": 0.026106,
     "end_time": "2021-05-23T04:29:27.000098",
     "exception": false,
     "start_time": "2021-05-23T04:29:26.973992",
     "status": "completed"
    },
    "tags": []
   },
   "source": [
    "# Keep going\n",
    "\n",
    "Move on to learn about **[bar charts and heatmaps](https://www.kaggle.com/alexisbcook/bar-charts-and-heatmaps)** with a new dataset!"
   ]
  },
  {
   "cell_type": "markdown",
   "id": "biblical-caribbean",
   "metadata": {
    "papermill": {
     "duration": 0.026181,
     "end_time": "2021-05-23T04:29:27.053169",
     "exception": false,
     "start_time": "2021-05-23T04:29:27.026988",
     "status": "completed"
    },
    "tags": []
   },
   "source": [
    "---\n",
    "\n",
    "\n",
    "\n",
    "\n",
    "*Have questions or comments? Visit the [Learn Discussion forum](https://www.kaggle.com/learn-forum/161291) to chat with other Learners.*"
   ]
  }
 ],
 "metadata": {
  "kernelspec": {
   "display_name": "Python 3",
   "language": "python",
   "name": "python3"
  },
  "language_info": {
   "codemirror_mode": {
    "name": "ipython",
    "version": 3
   },
   "file_extension": ".py",
   "mimetype": "text/x-python",
   "name": "python",
   "nbconvert_exporter": "python",
   "pygments_lexer": "ipython3",
   "version": "3.7.9"
  },
  "papermill": {
   "default_parameters": {},
   "duration": 10.374201,
   "end_time": "2021-05-23T04:29:27.689040",
   "environment_variables": {},
   "exception": null,
   "input_path": "__notebook__.ipynb",
   "output_path": "__notebook__.ipynb",
   "parameters": {},
   "start_time": "2021-05-23T04:29:17.314839",
   "version": "2.3.2"
  }
 },
 "nbformat": 4,
 "nbformat_minor": 5
}
