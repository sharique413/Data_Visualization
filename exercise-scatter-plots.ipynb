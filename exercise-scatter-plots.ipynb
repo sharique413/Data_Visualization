{
 "cells": [
  {
   "cell_type": "markdown",
   "id": "pretty-atlas",
   "metadata": {
    "papermill": {
     "duration": 0.031183,
     "end_time": "2021-05-23T04:29:32.981341",
     "exception": false,
     "start_time": "2021-05-23T04:29:32.950158",
     "status": "completed"
    },
    "tags": []
   },
   "source": [
    "**This notebook is an exercise in the [Data Visualization](https://www.kaggle.com/learn/data-visualization) course.  You can reference the tutorial at [this link](https://www.kaggle.com/alexisbcook/scatter-plots).**\n",
    "\n",
    "---\n"
   ]
  },
  {
   "cell_type": "markdown",
   "id": "distinguished-processor",
   "metadata": {
    "papermill": {
     "duration": 0.027382,
     "end_time": "2021-05-23T04:29:33.037223",
     "exception": false,
     "start_time": "2021-05-23T04:29:33.009841",
     "status": "completed"
    },
    "tags": []
   },
   "source": [
    "In this exercise, you will use your new knowledge to propose a solution to a real-world scenario.  To succeed, you will need to import data into Python, answer questions using the data, and generate **scatter plots** to understand patterns in the data.\n",
    "\n",
    "## Scenario\n",
    "\n",
    "You work for a major candy producer, and your goal is to write a report that your company can use to guide the design of its next product.  Soon after starting your research, you stumble across this [very interesting dataset](https://fivethirtyeight.com/features/the-ultimate-halloween-candy-power-ranking/) containing results from a fun survey to crowdsource favorite candies.\n",
    "\n",
    "## Setup\n",
    "\n",
    "Run the next cell to import and configure the Python libraries that you need to complete the exercise."
   ]
  },
  {
   "cell_type": "code",
   "execution_count": 1,
   "id": "ideal-toddler",
   "metadata": {
    "execution": {
     "iopub.execute_input": "2021-05-23T04:29:33.101608Z",
     "iopub.status.busy": "2021-05-23T04:29:33.101007Z",
     "iopub.status.idle": "2021-05-23T04:29:34.095100Z",
     "shell.execute_reply": "2021-05-23T04:29:34.094419Z",
     "shell.execute_reply.started": "2021-05-20T02:39:40.394705Z"
    },
    "papermill": {
     "duration": 1.02908,
     "end_time": "2021-05-23T04:29:34.095293",
     "exception": false,
     "start_time": "2021-05-23T04:29:33.066213",
     "status": "completed"
    },
    "tags": []
   },
   "outputs": [
    {
     "name": "stdout",
     "output_type": "stream",
     "text": [
      "Setup Complete\n"
     ]
    }
   ],
   "source": [
    "import pandas as pd\n",
    "pd.plotting.register_matplotlib_converters()\n",
    "import matplotlib.pyplot as plt\n",
    "%matplotlib inline\n",
    "import seaborn as sns\n",
    "print(\"Setup Complete\")"
   ]
  },
  {
   "cell_type": "markdown",
   "id": "possible-timeline",
   "metadata": {
    "papermill": {
     "duration": 0.028157,
     "end_time": "2021-05-23T04:29:34.152260",
     "exception": false,
     "start_time": "2021-05-23T04:29:34.124103",
     "status": "completed"
    },
    "tags": []
   },
   "source": [
    "The questions below will give you feedback on your work. Run the following cell to set up our feedback system."
   ]
  },
  {
   "cell_type": "code",
   "execution_count": 2,
   "id": "starting-grill",
   "metadata": {
    "execution": {
     "iopub.execute_input": "2021-05-23T04:29:34.214151Z",
     "iopub.status.busy": "2021-05-23T04:29:34.213476Z",
     "iopub.status.idle": "2021-05-23T04:29:34.284636Z",
     "shell.execute_reply": "2021-05-23T04:29:34.283883Z",
     "shell.execute_reply.started": "2021-05-20T02:39:47.490739Z"
    },
    "papermill": {
     "duration": 0.104138,
     "end_time": "2021-05-23T04:29:34.284844",
     "exception": false,
     "start_time": "2021-05-23T04:29:34.180706",
     "status": "completed"
    },
    "tags": []
   },
   "outputs": [
    {
     "name": "stdout",
     "output_type": "stream",
     "text": [
      "Setup Complete\n"
     ]
    }
   ],
   "source": [
    "# Set up code checking\n",
    "import os\n",
    "if not os.path.exists(\"../input/candy.csv\"):\n",
    "    os.symlink(\"../input/data-for-datavis/candy.csv\", \"../input/candy.csv\") \n",
    "from learntools.core import binder\n",
    "binder.bind(globals())\n",
    "from learntools.data_viz_to_coder.ex4 import *\n",
    "print(\"Setup Complete\")"
   ]
  },
  {
   "cell_type": "markdown",
   "id": "occupational-color",
   "metadata": {
    "papermill": {
     "duration": 0.031214,
     "end_time": "2021-05-23T04:29:34.345960",
     "exception": false,
     "start_time": "2021-05-23T04:29:34.314746",
     "status": "completed"
    },
    "tags": []
   },
   "source": [
    "## Step 1: Load the Data\n",
    "\n",
    "Read the candy data file into `candy_data`.  Use the `\"id\"` column to label the rows."
   ]
  },
  {
   "cell_type": "code",
   "execution_count": 3,
   "id": "intimate-verse",
   "metadata": {
    "execution": {
     "iopub.execute_input": "2021-05-23T04:29:34.415313Z",
     "iopub.status.busy": "2021-05-23T04:29:34.414628Z",
     "iopub.status.idle": "2021-05-23T04:29:34.428649Z",
     "shell.execute_reply": "2021-05-23T04:29:34.429282Z",
     "shell.execute_reply.started": "2021-05-20T02:41:26.01322Z"
    },
    "papermill": {
     "duration": 0.052055,
     "end_time": "2021-05-23T04:29:34.429456",
     "exception": false,
     "start_time": "2021-05-23T04:29:34.377401",
     "status": "completed"
    },
    "tags": []
   },
   "outputs": [
    {
     "data": {
      "application/javascript": [
       "parent.postMessage({\"jupyterEvent\": \"custom.exercise_interaction\", \"data\": {\"outcomeType\": 1, \"valueTowardsCompletion\": 0.3333333333333333, \"interactionType\": 1, \"questionType\": 1, \"questionId\": \"1_LoadData\", \"learnToolsVersion\": \"0.3.4\", \"failureMessage\": \"\", \"exceptionClass\": \"\", \"trace\": \"\"}}, \"*\")"
      ],
      "text/plain": [
       "<IPython.core.display.Javascript object>"
      ]
     },
     "metadata": {},
     "output_type": "display_data"
    },
    {
     "data": {
      "text/markdown": [
       "<span style=\"color:#33cc33\">Correct</span>"
      ],
      "text/plain": [
       "Correct"
      ]
     },
     "metadata": {},
     "output_type": "display_data"
    }
   ],
   "source": [
    "# Path of the file to read\n",
    "candy_filepath = \"../input/candy.csv\"\n",
    "\n",
    "# Fill in the line below to read the file into a variable candy_data\n",
    "candy_data = pd.read_csv(candy_filepath, index_col=\"id\")\n",
    "\n",
    "# Run the line below with no changes to check that you've loaded the data correctly\n",
    "step_1.check()"
   ]
  },
  {
   "cell_type": "code",
   "execution_count": 4,
   "id": "precise-equivalent",
   "metadata": {
    "execution": {
     "iopub.execute_input": "2021-05-23T04:29:34.495325Z",
     "iopub.status.busy": "2021-05-23T04:29:34.494338Z",
     "iopub.status.idle": "2021-05-23T04:29:34.497939Z",
     "shell.execute_reply": "2021-05-23T04:29:34.498396Z",
     "shell.execute_reply.started": "2021-05-20T02:41:34.993298Z"
    },
    "papermill": {
     "duration": 0.038405,
     "end_time": "2021-05-23T04:29:34.498578",
     "exception": false,
     "start_time": "2021-05-23T04:29:34.460173",
     "status": "completed"
    },
    "tags": []
   },
   "outputs": [],
   "source": [
    "# Lines below will give you a hint or solution code\n",
    "#step_1.hint()\n",
    "#step_1.solution()"
   ]
  },
  {
   "cell_type": "markdown",
   "id": "built-hayes",
   "metadata": {
    "papermill": {
     "duration": 0.029235,
     "end_time": "2021-05-23T04:29:34.557172",
     "exception": false,
     "start_time": "2021-05-23T04:29:34.527937",
     "status": "completed"
    },
    "tags": []
   },
   "source": [
    "## Step 2: Review the data\n",
    "\n",
    "Use a Python command to print the first five rows of the data."
   ]
  },
  {
   "cell_type": "code",
   "execution_count": 5,
   "id": "electric-vinyl",
   "metadata": {
    "execution": {
     "iopub.execute_input": "2021-05-23T04:29:34.620181Z",
     "iopub.status.busy": "2021-05-23T04:29:34.619200Z",
     "iopub.status.idle": "2021-05-23T04:29:34.645073Z",
     "shell.execute_reply": "2021-05-23T04:29:34.644505Z",
     "shell.execute_reply.started": "2021-05-20T02:42:19.692215Z"
    },
    "papermill": {
     "duration": 0.058387,
     "end_time": "2021-05-23T04:29:34.645236",
     "exception": false,
     "start_time": "2021-05-23T04:29:34.586849",
     "status": "completed"
    },
    "tags": []
   },
   "outputs": [
    {
     "data": {
      "text/html": [
       "<div>\n",
       "<style scoped>\n",
       "    .dataframe tbody tr th:only-of-type {\n",
       "        vertical-align: middle;\n",
       "    }\n",
       "\n",
       "    .dataframe tbody tr th {\n",
       "        vertical-align: top;\n",
       "    }\n",
       "\n",
       "    .dataframe thead th {\n",
       "        text-align: right;\n",
       "    }\n",
       "</style>\n",
       "<table border=\"1\" class=\"dataframe\">\n",
       "  <thead>\n",
       "    <tr style=\"text-align: right;\">\n",
       "      <th></th>\n",
       "      <th>competitorname</th>\n",
       "      <th>chocolate</th>\n",
       "      <th>fruity</th>\n",
       "      <th>caramel</th>\n",
       "      <th>peanutyalmondy</th>\n",
       "      <th>nougat</th>\n",
       "      <th>crispedricewafer</th>\n",
       "      <th>hard</th>\n",
       "      <th>bar</th>\n",
       "      <th>pluribus</th>\n",
       "      <th>sugarpercent</th>\n",
       "      <th>pricepercent</th>\n",
       "      <th>winpercent</th>\n",
       "    </tr>\n",
       "    <tr>\n",
       "      <th>id</th>\n",
       "      <th></th>\n",
       "      <th></th>\n",
       "      <th></th>\n",
       "      <th></th>\n",
       "      <th></th>\n",
       "      <th></th>\n",
       "      <th></th>\n",
       "      <th></th>\n",
       "      <th></th>\n",
       "      <th></th>\n",
       "      <th></th>\n",
       "      <th></th>\n",
       "      <th></th>\n",
       "    </tr>\n",
       "  </thead>\n",
       "  <tbody>\n",
       "    <tr>\n",
       "      <th>0</th>\n",
       "      <td>100 Grand</td>\n",
       "      <td>Yes</td>\n",
       "      <td>No</td>\n",
       "      <td>Yes</td>\n",
       "      <td>No</td>\n",
       "      <td>No</td>\n",
       "      <td>Yes</td>\n",
       "      <td>No</td>\n",
       "      <td>Yes</td>\n",
       "      <td>No</td>\n",
       "      <td>0.732</td>\n",
       "      <td>0.860</td>\n",
       "      <td>66.971725</td>\n",
       "    </tr>\n",
       "    <tr>\n",
       "      <th>1</th>\n",
       "      <td>3 Musketeers</td>\n",
       "      <td>Yes</td>\n",
       "      <td>No</td>\n",
       "      <td>No</td>\n",
       "      <td>No</td>\n",
       "      <td>Yes</td>\n",
       "      <td>No</td>\n",
       "      <td>No</td>\n",
       "      <td>Yes</td>\n",
       "      <td>No</td>\n",
       "      <td>0.604</td>\n",
       "      <td>0.511</td>\n",
       "      <td>67.602936</td>\n",
       "    </tr>\n",
       "    <tr>\n",
       "      <th>2</th>\n",
       "      <td>Air Heads</td>\n",
       "      <td>No</td>\n",
       "      <td>Yes</td>\n",
       "      <td>No</td>\n",
       "      <td>No</td>\n",
       "      <td>No</td>\n",
       "      <td>No</td>\n",
       "      <td>No</td>\n",
       "      <td>No</td>\n",
       "      <td>No</td>\n",
       "      <td>0.906</td>\n",
       "      <td>0.511</td>\n",
       "      <td>52.341465</td>\n",
       "    </tr>\n",
       "    <tr>\n",
       "      <th>3</th>\n",
       "      <td>Almond Joy</td>\n",
       "      <td>Yes</td>\n",
       "      <td>No</td>\n",
       "      <td>No</td>\n",
       "      <td>Yes</td>\n",
       "      <td>No</td>\n",
       "      <td>No</td>\n",
       "      <td>No</td>\n",
       "      <td>Yes</td>\n",
       "      <td>No</td>\n",
       "      <td>0.465</td>\n",
       "      <td>0.767</td>\n",
       "      <td>50.347546</td>\n",
       "    </tr>\n",
       "    <tr>\n",
       "      <th>4</th>\n",
       "      <td>Baby Ruth</td>\n",
       "      <td>Yes</td>\n",
       "      <td>No</td>\n",
       "      <td>Yes</td>\n",
       "      <td>Yes</td>\n",
       "      <td>Yes</td>\n",
       "      <td>No</td>\n",
       "      <td>No</td>\n",
       "      <td>Yes</td>\n",
       "      <td>No</td>\n",
       "      <td>0.604</td>\n",
       "      <td>0.767</td>\n",
       "      <td>56.914547</td>\n",
       "    </tr>\n",
       "  </tbody>\n",
       "</table>\n",
       "</div>"
      ],
      "text/plain": [
       "   competitorname chocolate fruity caramel peanutyalmondy nougat  \\\n",
       "id                                                                 \n",
       "0       100 Grand       Yes     No     Yes             No     No   \n",
       "1    3 Musketeers       Yes     No      No             No    Yes   \n",
       "2       Air Heads        No    Yes      No             No     No   \n",
       "3      Almond Joy       Yes     No      No            Yes     No   \n",
       "4       Baby Ruth       Yes     No     Yes            Yes    Yes   \n",
       "\n",
       "   crispedricewafer hard  bar pluribus  sugarpercent  pricepercent  winpercent  \n",
       "id                                                                              \n",
       "0               Yes   No  Yes       No         0.732         0.860   66.971725  \n",
       "1                No   No  Yes       No         0.604         0.511   67.602936  \n",
       "2                No   No   No       No         0.906         0.511   52.341465  \n",
       "3                No   No  Yes       No         0.465         0.767   50.347546  \n",
       "4                No   No  Yes       No         0.604         0.767   56.914547  "
      ]
     },
     "execution_count": 5,
     "metadata": {},
     "output_type": "execute_result"
    }
   ],
   "source": [
    "# Print the first five rows of the data\n",
    "candy_data.head(5)\n",
    "\n",
    "# Your code here"
   ]
  },
  {
   "cell_type": "markdown",
   "id": "seeing-limit",
   "metadata": {
    "papermill": {
     "duration": 0.029518,
     "end_time": "2021-05-23T04:29:34.704662",
     "exception": false,
     "start_time": "2021-05-23T04:29:34.675144",
     "status": "completed"
    },
    "tags": []
   },
   "source": [
    "The dataset contains 83 rows, where each corresponds to a different candy bar.  There are 13 columns:\n",
    "- `'competitorname'` contains the name of the candy bar. \n",
    "- the next **9** columns (from `'chocolate'` to `'pluribus'`) describe the candy.  For instance, rows with chocolate candies have `\"Yes\"` in the `'chocolate'` column (and candies without chocolate have `\"No\"` in the same column).\n",
    "- `'sugarpercent'` provides some indication of the amount of sugar, where higher values signify higher sugar content.\n",
    "- `'pricepercent'` shows the price per unit, relative to the other candies in the dataset.\n",
    "- `'winpercent'` is calculated from the survey results; higher values indicate that the candy was more popular with survey respondents.\n",
    "\n",
    "Use the first five rows of the data to answer the questions below."
   ]
  },
  {
   "cell_type": "code",
   "execution_count": 6,
   "id": "romantic-impression",
   "metadata": {
    "execution": {
     "iopub.execute_input": "2021-05-23T04:29:34.771501Z",
     "iopub.status.busy": "2021-05-23T04:29:34.770479Z",
     "iopub.status.idle": "2021-05-23T04:29:34.775774Z",
     "shell.execute_reply": "2021-05-23T04:29:34.776288Z",
     "shell.execute_reply.started": "2021-05-20T02:45:18.596737Z"
    },
    "papermill": {
     "duration": 0.041877,
     "end_time": "2021-05-23T04:29:34.776458",
     "exception": false,
     "start_time": "2021-05-23T04:29:34.734581",
     "status": "completed"
    },
    "tags": []
   },
   "outputs": [
    {
     "data": {
      "application/javascript": [
       "parent.postMessage({\"jupyterEvent\": \"custom.exercise_interaction\", \"data\": {\"outcomeType\": 1, \"valueTowardsCompletion\": 0.3333333333333333, \"interactionType\": 1, \"questionType\": 1, \"questionId\": \"2_ReviewData\", \"learnToolsVersion\": \"0.3.4\", \"failureMessage\": \"\", \"exceptionClass\": \"\", \"trace\": \"\"}}, \"*\")"
      ],
      "text/plain": [
       "<IPython.core.display.Javascript object>"
      ]
     },
     "metadata": {},
     "output_type": "display_data"
    },
    {
     "data": {
      "text/markdown": [
       "<span style=\"color:#33cc33\">Correct</span>"
      ],
      "text/plain": [
       "Correct"
      ]
     },
     "metadata": {},
     "output_type": "display_data"
    }
   ],
   "source": [
    "# Fill in the line below: Which candy was more popular with survey respondents:\n",
    "# '3 Musketeers' or 'Almond Joy'?  (Please enclose your answer in single quotes.)\n",
    "more_popular = '3 Musketeers'\n",
    "\n",
    "# Fill in the line below: Which candy has higher sugar content: 'Air Heads'\n",
    "# or 'Baby Ruth'? (Please enclose your answer in single quotes.)\n",
    "more_sugar = 'Air Heads'\n",
    "\n",
    "# Check your answers\n",
    "step_2.check()"
   ]
  },
  {
   "cell_type": "code",
   "execution_count": 7,
   "id": "attended-revision",
   "metadata": {
    "execution": {
     "iopub.execute_input": "2021-05-23T04:29:34.841891Z",
     "iopub.status.busy": "2021-05-23T04:29:34.840931Z",
     "iopub.status.idle": "2021-05-23T04:29:34.845416Z",
     "shell.execute_reply": "2021-05-23T04:29:34.844853Z",
     "shell.execute_reply.started": "2021-05-20T02:45:26.652404Z"
    },
    "papermill": {
     "duration": 0.038672,
     "end_time": "2021-05-23T04:29:34.845562",
     "exception": false,
     "start_time": "2021-05-23T04:29:34.806890",
     "status": "completed"
    },
    "tags": []
   },
   "outputs": [],
   "source": [
    "# Lines below will give you a hint or solution code\n",
    "#step_2.hint()\n",
    "#step_2.solution()"
   ]
  },
  {
   "cell_type": "markdown",
   "id": "focused-envelope",
   "metadata": {
    "papermill": {
     "duration": 0.030287,
     "end_time": "2021-05-23T04:29:34.906392",
     "exception": false,
     "start_time": "2021-05-23T04:29:34.876105",
     "status": "completed"
    },
    "tags": []
   },
   "source": [
    "## Step 3: The role of sugar\n",
    "\n",
    "Do people tend to prefer candies with higher sugar content?  \n",
    "\n",
    "#### Part A\n",
    "\n",
    "Create a scatter plot that shows the relationship between `'sugarpercent'` (on the horizontal x-axis) and `'winpercent'` (on the vertical y-axis).  _Don't add a regression line just yet -- you'll do that in the next step!_"
   ]
  },
  {
   "cell_type": "code",
   "execution_count": 8,
   "id": "complete-dubai",
   "metadata": {
    "execution": {
     "iopub.execute_input": "2021-05-23T04:29:34.993967Z",
     "iopub.status.busy": "2021-05-23T04:29:34.993239Z",
     "iopub.status.idle": "2021-05-23T04:29:35.198083Z",
     "shell.execute_reply": "2021-05-23T04:29:35.198660Z",
     "shell.execute_reply.started": "2021-05-20T02:47:36.798479Z"
    },
    "papermill": {
     "duration": 0.262021,
     "end_time": "2021-05-23T04:29:35.198864",
     "exception": false,
     "start_time": "2021-05-23T04:29:34.936843",
     "status": "completed"
    },
    "tags": []
   },
   "outputs": [
    {
     "data": {
      "application/javascript": [
       "parent.postMessage({\"jupyterEvent\": \"custom.exercise_interaction\", \"data\": {\"outcomeType\": 1, \"valueTowardsCompletion\": 0.3333333333333333, \"interactionType\": 1, \"questionType\": 2, \"questionId\": \"3.1_PlotBlueScatter\", \"learnToolsVersion\": \"0.3.4\", \"failureMessage\": \"\", \"exceptionClass\": \"\", \"trace\": \"\"}}, \"*\")"
      ],
      "text/plain": [
       "<IPython.core.display.Javascript object>"
      ]
     },
     "metadata": {},
     "output_type": "display_data"
    },
    {
     "data": {
      "text/markdown": [
       "<span style=\"color:#33cc33\">Correct</span>"
      ],
      "text/plain": [
       "Correct"
      ]
     },
     "metadata": {},
     "output_type": "display_data"
    },
    {
     "data": {
      "image/png": "[encoded data removed]",
      "text/plain": [
       "<Figure size 432x288 with 1 Axes>"
      ]
     },
     "metadata": {
      "needs_background": "light"
     },
     "output_type": "display_data"
    }
   ],
   "source": [
    "# Scatter plot showing the relationship between 'sugarpercent' and 'winpercent'\n",
    " # Your code here\n",
    "sns.scatterplot(x= candy_data['sugarpercent'], y=candy_data['winpercent'])\n",
    "# Check your answer\n",
    "step_3.a.check()"
   ]
  },
  {
   "cell_type": "code",
   "execution_count": 9,
   "id": "local-planet",
   "metadata": {
    "execution": {
     "iopub.execute_input": "2021-05-23T04:29:35.268394Z",
     "iopub.status.busy": "2021-05-23T04:29:35.267706Z",
     "iopub.status.idle": "2021-05-23T04:29:35.271132Z",
     "shell.execute_reply": "2021-05-23T04:29:35.271641Z",
     "shell.execute_reply.started": "2021-05-20T02:47:47.812004Z"
    },
    "papermill": {
     "duration": 0.040014,
     "end_time": "2021-05-23T04:29:35.271832",
     "exception": false,
     "start_time": "2021-05-23T04:29:35.231818",
     "status": "completed"
    },
    "tags": []
   },
   "outputs": [],
   "source": [
    "# Lines below will give you a hint or solution code\n",
    "#step_3.a.hint()\n",
    "#step_3.a.solution_plot()"
   ]
  },
  {
   "cell_type": "markdown",
   "id": "identical-ecology",
   "metadata": {
    "papermill": {
     "duration": 0.032176,
     "end_time": "2021-05-23T04:29:35.336322",
     "exception": false,
     "start_time": "2021-05-23T04:29:35.304146",
     "status": "completed"
    },
    "tags": []
   },
   "source": [
    "#### Part B\n",
    "\n",
    "Does the scatter plot show a **strong** correlation between the two variables?  If so, are candies with more sugar relatively more or less popular with the survey respondents?"
   ]
  },
  {
   "cell_type": "code",
   "execution_count": 10,
   "id": "democratic-affiliate",
   "metadata": {
    "execution": {
     "iopub.execute_input": "2021-05-23T04:29:35.405483Z",
     "iopub.status.busy": "2021-05-23T04:29:35.404700Z",
     "iopub.status.idle": "2021-05-23T04:29:35.411396Z",
     "shell.execute_reply": "2021-05-23T04:29:35.410475Z"
    },
    "papermill": {
     "duration": 0.043046,
     "end_time": "2021-05-23T04:29:35.411592",
     "exception": false,
     "start_time": "2021-05-23T04:29:35.368546",
     "status": "completed"
    },
    "tags": []
   },
   "outputs": [],
   "source": [
    "#step_3.b.hint()"
   ]
  },
  {
   "cell_type": "code",
   "execution_count": 11,
   "id": "according-technology",
   "metadata": {
    "execution": {
     "iopub.execute_input": "2021-05-23T04:29:35.506038Z",
     "iopub.status.busy": "2021-05-23T04:29:35.505023Z",
     "iopub.status.idle": "2021-05-23T04:29:35.512432Z",
     "shell.execute_reply": "2021-05-23T04:29:35.511654Z",
     "shell.execute_reply.started": "2021-05-20T02:47:52.612436Z"
    },
    "papermill": {
     "duration": 0.060661,
     "end_time": "2021-05-23T04:29:35.512622",
     "exception": false,
     "start_time": "2021-05-23T04:29:35.451961",
     "status": "completed"
    },
    "tags": []
   },
   "outputs": [
    {
     "data": {
      "application/javascript": [
       "parent.postMessage({\"jupyterEvent\": \"custom.exercise_interaction\", \"data\": {\"interactionType\": 3, \"questionType\": 4, \"questionId\": \"3.2_ThinkBlueScatter\", \"learnToolsVersion\": \"0.3.4\", \"valueTowardsCompletion\": 0.0, \"failureMessage\": \"\", \"exceptionClass\": \"\", \"trace\": \"\", \"outcomeType\": 4}}, \"*\")"
      ],
      "text/plain": [
       "<IPython.core.display.Javascript object>"
      ]
     },
     "metadata": {},
     "output_type": "display_data"
    },
    {
     "data": {
      "text/markdown": [
       "<span style=\"color:#33cc99\">Solution:</span> The scatter plot does not show a strong correlation between the two variables. Since there is no clear relationship between the two variables, this tells us that sugar content does not play a strong role in candy popularity."
      ],
      "text/plain": [
       "Solution: The scatter plot does not show a strong correlation between the two variables. Since there is no clear relationship between the two variables, this tells us that sugar content does not play a strong role in candy popularity."
      ]
     },
     "metadata": {},
     "output_type": "display_data"
    }
   ],
   "source": [
    "# Check your answer (Run this code cell to receive credit!)\n",
    "step_3.b.solution()"
   ]
  },
  {
   "cell_type": "markdown",
   "id": "familiar-bracket",
   "metadata": {
    "papermill": {
     "duration": 0.03532,
     "end_time": "2021-05-23T04:29:35.586233",
     "exception": false,
     "start_time": "2021-05-23T04:29:35.550913",
     "status": "completed"
    },
    "tags": []
   },
   "source": [
    "## Step 4: Take a closer look\n",
    "\n",
    "#### Part A\n",
    "\n",
    "Create the same scatter plot you created in **Step 3**, but now with a regression line!"
   ]
  },
  {
   "cell_type": "code",
   "execution_count": 12,
   "id": "rubber-venezuela",
   "metadata": {
    "execution": {
     "iopub.execute_input": "2021-05-23T04:29:35.689682Z",
     "iopub.status.busy": "2021-05-23T04:29:35.677462Z",
     "iopub.status.idle": "2021-05-23T04:29:35.923076Z",
     "shell.execute_reply": "2021-05-23T04:29:35.922464Z",
     "shell.execute_reply.started": "2021-05-20T02:49:16.87412Z"
    },
    "papermill": {
     "duration": 0.302743,
     "end_time": "2021-05-23T04:29:35.923238",
     "exception": false,
     "start_time": "2021-05-23T04:29:35.620495",
     "status": "completed"
    },
    "tags": []
   },
   "outputs": [
    {
     "data": {
      "application/javascript": [
       "parent.postMessage({\"jupyterEvent\": \"custom.exercise_interaction\", \"data\": {\"outcomeType\": 1, \"valueTowardsCompletion\": 0.3333333333333333, \"interactionType\": 1, \"questionType\": 2, \"questionId\": \"4.1_PlotBlueReg\", \"learnToolsVersion\": \"0.3.4\", \"failureMessage\": \"\", \"exceptionClass\": \"\", \"trace\": \"\"}}, \"*\")"
      ],
      "text/plain": [
       "<IPython.core.display.Javascript object>"
      ]
     },
     "metadata": {},
     "output_type": "display_data"
    },
    {
     "data": {
      "text/markdown": [
       "<span style=\"color:#33cc33\">Correct</span>"
      ],
      "text/plain": [
       "Correct"
      ]
     },
     "metadata": {},
     "output_type": "display_data"
    },
    {
     "data": {
      "image/png": "[encoded data removed]",
      "text/plain": [
       "<Figure size 432x288 with 1 Axes>"
      ]
     },
     "metadata": {
      "needs_background": "light"
     },
     "output_type": "display_data"
    }
   ],
   "source": [
    "# Scatter plot w/ regression line showing the relationship between 'sugarpercent' and 'winpercent'\n",
    " # Your code here\n",
    "sns.regplot(x=candy_data['sugarpercent'], y =candy_data['winpercent'])\n",
    "# Check your answer\n",
    "step_4.a.check()"
   ]
  },
  {
   "cell_type": "code",
   "execution_count": 13,
   "id": "mediterranean-devil",
   "metadata": {
    "execution": {
     "iopub.execute_input": "2021-05-23T04:29:36.000445Z",
     "iopub.status.busy": "2021-05-23T04:29:35.999775Z",
     "iopub.status.idle": "2021-05-23T04:29:36.003300Z",
     "shell.execute_reply": "2021-05-23T04:29:36.002594Z",
     "shell.execute_reply.started": "2021-05-20T02:49:32.892272Z"
    },
    "papermill": {
     "duration": 0.044345,
     "end_time": "2021-05-23T04:29:36.003448",
     "exception": false,
     "start_time": "2021-05-23T04:29:35.959103",
     "status": "completed"
    },
    "tags": []
   },
   "outputs": [],
   "source": [
    "# Lines below will give you a hint or solution code\n",
    "#step_4.a.hint()\n",
    "#step_4.a.solution_plot()"
   ]
  },
  {
   "cell_type": "markdown",
   "id": "assumed-gambling",
   "metadata": {
    "papermill": {
     "duration": 0.035912,
     "end_time": "2021-05-23T04:29:36.075825",
     "exception": false,
     "start_time": "2021-05-23T04:29:36.039913",
     "status": "completed"
    },
    "tags": []
   },
   "source": [
    "#### Part B\n",
    "\n",
    "According to the plot above, is there a **slight** correlation between `'winpercent'` and `'sugarpercent'`?  What does this tell you about the candy that people tend to prefer?"
   ]
  },
  {
   "cell_type": "code",
   "execution_count": 14,
   "id": "uniform-junior",
   "metadata": {
    "execution": {
     "iopub.execute_input": "2021-05-23T04:29:36.152891Z",
     "iopub.status.busy": "2021-05-23T04:29:36.152126Z",
     "iopub.status.idle": "2021-05-23T04:29:36.155616Z",
     "shell.execute_reply": "2021-05-23T04:29:36.154527Z"
    },
    "papermill": {
     "duration": 0.044115,
     "end_time": "2021-05-23T04:29:36.155766",
     "exception": false,
     "start_time": "2021-05-23T04:29:36.111651",
     "status": "completed"
    },
    "tags": []
   },
   "outputs": [],
   "source": [
    "#step_4.b.hint()"
   ]
  },
  {
   "cell_type": "code",
   "execution_count": 15,
   "id": "norman-treasure",
   "metadata": {
    "execution": {
     "iopub.execute_input": "2021-05-23T04:29:36.231818Z",
     "iopub.status.busy": "2021-05-23T04:29:36.230907Z",
     "iopub.status.idle": "2021-05-23T04:29:36.236930Z",
     "shell.execute_reply": "2021-05-23T04:29:36.236310Z",
     "shell.execute_reply.started": "2021-05-20T02:49:37.732127Z"
    },
    "papermill": {
     "duration": 0.046013,
     "end_time": "2021-05-23T04:29:36.237069",
     "exception": false,
     "start_time": "2021-05-23T04:29:36.191056",
     "status": "completed"
    },
    "tags": []
   },
   "outputs": [
    {
     "data": {
      "application/javascript": [
       "parent.postMessage({\"jupyterEvent\": \"custom.exercise_interaction\", \"data\": {\"interactionType\": 3, \"questionType\": 4, \"questionId\": \"4.2_ThinkBlueReg\", \"learnToolsVersion\": \"0.3.4\", \"valueTowardsCompletion\": 0.0, \"failureMessage\": \"\", \"exceptionClass\": \"\", \"trace\": \"\", \"outcomeType\": 4}}, \"*\")"
      ],
      "text/plain": [
       "<IPython.core.display.Javascript object>"
      ]
     },
     "metadata": {},
     "output_type": "display_data"
    },
    {
     "data": {
      "text/markdown": [
       "<span style=\"color:#33cc99\">Solution:</span> Since the regression line has a slightly positive slope, this tells us that there is a slightly positive correlation between `'winpercent'` and `'sugarpercent'`. Thus, people have a slight preference for candies containing relatively more sugar."
      ],
      "text/plain": [
       "Solution: Since the regression line has a slightly positive slope, this tells us that there is a slightly positive correlation between `'winpercent'` and `'sugarpercent'`. Thus, people have a slight preference for candies containing relatively more sugar."
      ]
     },
     "metadata": {},
     "output_type": "display_data"
    }
   ],
   "source": [
    "# Check your answer (Run this code cell to receive credit!)\n",
    "step_4.b.solution()"
   ]
  },
  {
   "cell_type": "markdown",
   "id": "spiritual-kuwait",
   "metadata": {
    "papermill": {
     "duration": 0.03597,
     "end_time": "2021-05-23T04:29:36.309388",
     "exception": false,
     "start_time": "2021-05-23T04:29:36.273418",
     "status": "completed"
    },
    "tags": []
   },
   "source": [
    "## Step 5: Chocolate!\n",
    "\n",
    "In the code cell below, create a scatter plot to show the relationship between `'pricepercent'` (on the horizontal x-axis) and `'winpercent'` (on the vertical y-axis). Use the `'chocolate'` column to color-code the points.  _Don't add any regression lines just yet -- you'll do that in the next step!_"
   ]
  },
  {
   "cell_type": "code",
   "execution_count": 16,
   "id": "smooth-facing",
   "metadata": {
    "execution": {
     "iopub.execute_input": "2021-05-23T04:29:36.414848Z",
     "iopub.status.busy": "2021-05-23T04:29:36.414108Z",
     "iopub.status.idle": "2021-05-23T04:29:36.628452Z",
     "shell.execute_reply": "2021-05-23T04:29:36.627892Z",
     "shell.execute_reply.started": "2021-05-20T02:52:21.613148Z"
    },
    "papermill": {
     "duration": 0.282971,
     "end_time": "2021-05-23T04:29:36.628591",
     "exception": false,
     "start_time": "2021-05-23T04:29:36.345620",
     "status": "completed"
    },
    "tags": []
   },
   "outputs": [
    {
     "data": {
      "application/javascript": [
       "parent.postMessage({\"jupyterEvent\": \"custom.exercise_interaction\", \"data\": {\"outcomeType\": 1, \"valueTowardsCompletion\": 0.3333333333333333, \"interactionType\": 1, \"questionType\": 2, \"questionId\": \"5_ColorScatter\", \"learnToolsVersion\": \"0.3.4\", \"failureMessage\": \"\", \"exceptionClass\": \"\", \"trace\": \"\"}}, \"*\")"
      ],
      "text/plain": [
       "<IPython.core.display.Javascript object>"
      ]
     },
     "metadata": {},
     "output_type": "display_data"
    },
    {
     "data": {
      "text/markdown": [
       "<span style=\"color:#33cc33\">Correct</span>"
      ],
      "text/plain": [
       "Correct"
      ]
     },
     "metadata": {},
     "output_type": "display_data"
    },
    {
     "data": {
      "image/png": "[encoded data removed]",
      "text/plain": [
       "<Figure size 432x288 with 1 Axes>"
      ]
     },
     "metadata": {
      "needs_background": "light"
     },
     "output_type": "display_data"
    }
   ],
   "source": [
    "# Scatter plot showing the relationship between 'pricepercent', 'winpercent', and 'chocolate'\n",
    " # Your code here\n",
    "sns.scatterplot(x=candy_data['pricepercent'], y=candy_data['winpercent'], hue=candy_data['chocolate'])\n",
    "# Check your answer\n",
    "step_5.check()"
   ]
  },
  {
   "cell_type": "code",
   "execution_count": 17,
   "id": "listed-machine",
   "metadata": {
    "execution": {
     "iopub.execute_input": "2021-05-23T04:29:36.710030Z",
     "iopub.status.busy": "2021-05-23T04:29:36.709034Z",
     "iopub.status.idle": "2021-05-23T04:29:36.712220Z",
     "shell.execute_reply": "2021-05-23T04:29:36.711705Z",
     "shell.execute_reply.started": "2021-05-20T02:52:29.992749Z"
    },
    "papermill": {
     "duration": 0.045485,
     "end_time": "2021-05-23T04:29:36.712364",
     "exception": false,
     "start_time": "2021-05-23T04:29:36.666879",
     "status": "completed"
    },
    "tags": []
   },
   "outputs": [],
   "source": [
    "# Lines below will give you a hint or solution code\n",
    "#step_5.hint()\n",
    "#step_5.solution_plot()"
   ]
  },
  {
   "cell_type": "markdown",
   "id": "heavy-trader",
   "metadata": {
    "papermill": {
     "duration": 0.039631,
     "end_time": "2021-05-23T04:29:36.791966",
     "exception": false,
     "start_time": "2021-05-23T04:29:36.752335",
     "status": "completed"
    },
    "tags": []
   },
   "source": [
    "Can you see any interesting patterns in the scatter plot?  We'll investigate this plot further  by adding regression lines in the next step!\n",
    "\n",
    "## Step 6: Investigate chocolate\n",
    "\n",
    "#### Part A\n",
    "\n",
    "Create the same scatter plot you created in **Step 5**, but now with two regression lines, corresponding to (1) chocolate candies and (2) candies without chocolate."
   ]
  },
  {
   "cell_type": "code",
   "execution_count": 18,
   "id": "expanded-mystery",
   "metadata": {
    "execution": {
     "iopub.execute_input": "2021-05-23T04:29:36.904229Z",
     "iopub.status.busy": "2021-05-23T04:29:36.902978Z",
     "iopub.status.idle": "2021-05-23T04:29:37.442846Z",
     "shell.execute_reply": "2021-05-23T04:29:37.442302Z",
     "shell.execute_reply.started": "2021-05-20T02:54:28.153426Z"
    },
    "papermill": {
     "duration": 0.610904,
     "end_time": "2021-05-23T04:29:37.442998",
     "exception": false,
     "start_time": "2021-05-23T04:29:36.832094",
     "status": "completed"
    },
    "tags": []
   },
   "outputs": [
    {
     "data": {
      "application/javascript": [
       "parent.postMessage({\"jupyterEvent\": \"custom.exercise_interaction\", \"data\": {\"outcomeType\": 1, \"valueTowardsCompletion\": 0.3333333333333333, \"interactionType\": 1, \"questionType\": 2, \"questionId\": \"6.1_PlotColorReg\", \"learnToolsVersion\": \"0.3.4\", \"failureMessage\": \"\", \"exceptionClass\": \"\", \"trace\": \"\"}}, \"*\")"
      ],
      "text/plain": [
       "<IPython.core.display.Javascript object>"
      ]
     },
     "metadata": {},
     "output_type": "display_data"
    },
    {
     "data": {
      "text/markdown": [
       "<span style=\"color:#33cc33\">Correct</span>"
      ],
      "text/plain": [
       "Correct"
      ]
     },
     "metadata": {},
     "output_type": "display_data"
    },
    {
     "data": {
      "image/png": "[encoded data removed]",
      "text/plain": [
       "<Figure size 416.375x360 with 1 Axes>"
      ]
     },
     "metadata": {
      "needs_background": "light"
     },
     "output_type": "display_data"
    }
   ],
   "source": [
    "# Color-coded scatter plot w/ regression lines\n",
    "sns.lmplot(x=\"pricepercent\", y = \"winpercent\", hue=\"chocolate\", data=candy_data) # Your code here\n",
    "\n",
    "# Check your answer\n",
    "step_6.a.check()"
   ]
  },
  {
   "cell_type": "code",
   "execution_count": 19,
   "id": "crude-ancient",
   "metadata": {
    "execution": {
     "iopub.execute_input": "2021-05-23T04:29:37.533114Z",
     "iopub.status.busy": "2021-05-23T04:29:37.532268Z",
     "iopub.status.idle": "2021-05-23T04:29:37.535712Z",
     "shell.execute_reply": "2021-05-23T04:29:37.534971Z",
     "shell.execute_reply.started": "2021-05-20T02:54:36.273876Z"
    },
    "papermill": {
     "duration": 0.048383,
     "end_time": "2021-05-23T04:29:37.535890",
     "exception": false,
     "start_time": "2021-05-23T04:29:37.487507",
     "status": "completed"
    },
    "tags": []
   },
   "outputs": [],
   "source": [
    "# Lines below will give you a hint or solution code\n",
    "#step_6.a.hint()\n",
    "#step_6.a.solution_plot()"
   ]
  },
  {
   "cell_type": "markdown",
   "id": "reliable-brazil",
   "metadata": {
    "papermill": {
     "duration": 0.041556,
     "end_time": "2021-05-23T04:29:37.619315",
     "exception": false,
     "start_time": "2021-05-23T04:29:37.577759",
     "status": "completed"
    },
    "tags": []
   },
   "source": [
    "#### Part B\n",
    "\n",
    "Using the regression lines, what conclusions can you draw about the effects of chocolate and price on candy popularity?"
   ]
  },
  {
   "cell_type": "code",
   "execution_count": 20,
   "id": "monthly-indication",
   "metadata": {
    "execution": {
     "iopub.execute_input": "2021-05-23T04:29:37.707475Z",
     "iopub.status.busy": "2021-05-23T04:29:37.706522Z",
     "iopub.status.idle": "2021-05-23T04:29:37.709545Z",
     "shell.execute_reply": "2021-05-23T04:29:37.709009Z"
    },
    "papermill": {
     "duration": 0.048057,
     "end_time": "2021-05-23T04:29:37.709691",
     "exception": false,
     "start_time": "2021-05-23T04:29:37.661634",
     "status": "completed"
    },
    "tags": []
   },
   "outputs": [],
   "source": [
    "#step_6.b.hint()"
   ]
  },
  {
   "cell_type": "code",
   "execution_count": 21,
   "id": "broadband-british",
   "metadata": {
    "execution": {
     "iopub.execute_input": "2021-05-23T04:29:37.799795Z",
     "iopub.status.busy": "2021-05-23T04:29:37.798833Z",
     "iopub.status.idle": "2021-05-23T04:29:37.804032Z",
     "shell.execute_reply": "2021-05-23T04:29:37.804474Z",
     "shell.execute_reply.started": "2021-05-20T02:54:39.571689Z"
    },
    "papermill": {
     "duration": 0.053213,
     "end_time": "2021-05-23T04:29:37.804643",
     "exception": false,
     "start_time": "2021-05-23T04:29:37.751430",
     "status": "completed"
    },
    "tags": []
   },
   "outputs": [
    {
     "data": {
      "application/javascript": [
       "parent.postMessage({\"jupyterEvent\": \"custom.exercise_interaction\", \"data\": {\"interactionType\": 3, \"questionType\": 4, \"questionId\": \"6.2_ThinkColorReg\", \"learnToolsVersion\": \"0.3.4\", \"valueTowardsCompletion\": 0.0, \"failureMessage\": \"\", \"exceptionClass\": \"\", \"trace\": \"\", \"outcomeType\": 4}}, \"*\")"
      ],
      "text/plain": [
       "<IPython.core.display.Javascript object>"
      ]
     },
     "metadata": {},
     "output_type": "display_data"
    },
    {
     "data": {
      "text/markdown": [
       "<span style=\"color:#33cc99\">Solution:</span> We'll begin with the regression line for chocolate candies. Since this line has a slightly positive slope, we can say that more expensive chocolate candies tend to be more popular (than relatively cheaper chocolate candies).  Likewise, since the regression line for candies without chocolate has a negative slope, we can say that if candies don't contain chocolate, they tend to be more popular when they are cheaper.  One important note, however, is that the dataset is quite small -- so we shouldn't invest too much trust in these patterns!  To inspire more confidence in the results, we should add more candies to the dataset."
      ],
      "text/plain": [
       "Solution: We'll begin with the regression line for chocolate candies. Since this line has a slightly positive slope, we can say that more expensive chocolate candies tend to be more popular (than relatively cheaper chocolate candies).  Likewise, since the regression line for candies without chocolate has a negative slope, we can say that if candies don't contain chocolate, they tend to be more popular when they are cheaper.  One important note, however, is that the dataset is quite small -- so we shouldn't invest too much trust in these patterns!  To inspire more confidence in the results, we should add more candies to the dataset."
      ]
     },
     "metadata": {},
     "output_type": "display_data"
    }
   ],
   "source": [
    "# Check your answer (Run this code cell to receive credit!)\n",
    "step_6.b.solution()"
   ]
  },
  {
   "cell_type": "markdown",
   "id": "medical-thumbnail",
   "metadata": {
    "papermill": {
     "duration": 0.041221,
     "end_time": "2021-05-23T04:29:37.887569",
     "exception": false,
     "start_time": "2021-05-23T04:29:37.846348",
     "status": "completed"
    },
    "tags": []
   },
   "source": [
    "## Step 7: Everybody loves chocolate.\n",
    "\n",
    "#### Part A\n",
    "\n",
    "Create a categorical scatter plot to highlight the relationship between `'chocolate'` and `'winpercent'`.  Put `'chocolate'` on the (horizontal) x-axis, and `'winpercent'` on the (vertical) y-axis."
   ]
  },
  {
   "cell_type": "code",
   "execution_count": 22,
   "id": "associate-cholesterol",
   "metadata": {
    "execution": {
     "iopub.execute_input": "2021-05-23T04:29:38.009575Z",
     "iopub.status.busy": "2021-05-23T04:29:38.007476Z",
     "iopub.status.idle": "2021-05-23T04:29:38.125656Z",
     "shell.execute_reply": "2021-05-23T04:29:38.126182Z",
     "shell.execute_reply.started": "2021-05-20T02:56:01.122738Z"
    },
    "papermill": {
     "duration": 0.197663,
     "end_time": "2021-05-23T04:29:38.126374",
     "exception": false,
     "start_time": "2021-05-23T04:29:37.928711",
     "status": "completed"
    },
    "tags": []
   },
   "outputs": [
    {
     "data": {
      "application/javascript": [
       "parent.postMessage({\"jupyterEvent\": \"custom.exercise_interaction\", \"data\": {\"outcomeType\": 1, \"valueTowardsCompletion\": 0.3333333333333333, \"interactionType\": 1, \"questionType\": 2, \"questionId\": \"7.1_PlotSwarm\", \"learnToolsVersion\": \"0.3.4\", \"failureMessage\": \"\", \"exceptionClass\": \"\", \"trace\": \"\"}}, \"*\")"
      ],
      "text/plain": [
       "<IPython.core.display.Javascript object>"
      ]
     },
     "metadata": {},
     "output_type": "display_data"
    },
    {
     "data": {
      "text/markdown": [
       "<span style=\"color:#33cc33\">Correct</span>"
      ],
      "text/plain": [
       "Correct"
      ]
     },
     "metadata": {},
     "output_type": "display_data"
    },
    {
     "data": {
      "image/png": "[encoded data removed]",
      "text/plain": [
       "<Figure size 432x288 with 1 Axes>"
      ]
     },
     "metadata": {
      "needs_background": "light"
     },
     "output_type": "display_data"
    }
   ],
   "source": [
    "# Scatter plot showing the relationship between 'chocolate' and 'winpercent'\n",
    " # Your code here\n",
    "sns.swarmplot(x=candy_data['chocolate'], y=candy_data['winpercent'])\n",
    "# Check your answer\n",
    "step_7.a.check()"
   ]
  },
  {
   "cell_type": "code",
   "execution_count": 23,
   "id": "applied-adaptation",
   "metadata": {
    "execution": {
     "iopub.execute_input": "2021-05-23T04:29:38.226431Z",
     "iopub.status.busy": "2021-05-23T04:29:38.225741Z",
     "iopub.status.idle": "2021-05-23T04:29:38.229773Z",
     "shell.execute_reply": "2021-05-23T04:29:38.229175Z",
     "shell.execute_reply.started": "2021-05-20T02:56:09.332933Z"
    },
    "papermill": {
     "duration": 0.054371,
     "end_time": "2021-05-23T04:29:38.229939",
     "exception": false,
     "start_time": "2021-05-23T04:29:38.175568",
     "status": "completed"
    },
    "tags": []
   },
   "outputs": [],
   "source": [
    "# Lines below will give you a hint or solution code\n",
    "#step_7.a.hint()\n",
    "#step_7.a.solution_plot()"
   ]
  },
  {
   "cell_type": "markdown",
   "id": "intermediate-accordance",
   "metadata": {
    "papermill": {
     "duration": 0.042783,
     "end_time": "2021-05-23T04:29:38.316030",
     "exception": false,
     "start_time": "2021-05-23T04:29:38.273247",
     "status": "completed"
    },
    "tags": []
   },
   "source": [
    "#### Part B\n",
    "\n",
    "You decide to dedicate a section of your report to the fact that chocolate candies tend to be more popular than candies without chocolate.  Which plot is more appropriate to tell this story: the plot from **Step 6**, or the plot from **Step 7**?"
   ]
  },
  {
   "cell_type": "code",
   "execution_count": 24,
   "id": "innocent-shanghai",
   "metadata": {
    "execution": {
     "iopub.execute_input": "2021-05-23T04:29:38.407263Z",
     "iopub.status.busy": "2021-05-23T04:29:38.406537Z",
     "iopub.status.idle": "2021-05-23T04:29:38.409971Z",
     "shell.execute_reply": "2021-05-23T04:29:38.409378Z"
    },
    "papermill": {
     "duration": 0.050961,
     "end_time": "2021-05-23T04:29:38.410145",
     "exception": false,
     "start_time": "2021-05-23T04:29:38.359184",
     "status": "completed"
    },
    "tags": []
   },
   "outputs": [],
   "source": [
    "#step_7.b.hint()"
   ]
  },
  {
   "cell_type": "code",
   "execution_count": 25,
   "id": "novel-april",
   "metadata": {
    "execution": {
     "iopub.execute_input": "2021-05-23T04:29:38.505201Z",
     "iopub.status.busy": "2021-05-23T04:29:38.504175Z",
     "iopub.status.idle": "2021-05-23T04:29:38.510836Z",
     "shell.execute_reply": "2021-05-23T04:29:38.510309Z",
     "shell.execute_reply.started": "2021-05-20T02:56:14.032472Z"
    },
    "papermill": {
     "duration": 0.057339,
     "end_time": "2021-05-23T04:29:38.510991",
     "exception": false,
     "start_time": "2021-05-23T04:29:38.453652",
     "status": "completed"
    },
    "tags": []
   },
   "outputs": [
    {
     "data": {
      "application/javascript": [
       "parent.postMessage({\"jupyterEvent\": \"custom.exercise_interaction\", \"data\": {\"interactionType\": 3, \"questionType\": 4, \"questionId\": \"7.2_ThinkSwarm\", \"learnToolsVersion\": \"0.3.4\", \"valueTowardsCompletion\": 0.0, \"failureMessage\": \"\", \"exceptionClass\": \"\", \"trace\": \"\", \"outcomeType\": 4}}, \"*\")"
      ],
      "text/plain": [
       "<IPython.core.display.Javascript object>"
      ]
     },
     "metadata": {},
     "output_type": "display_data"
    },
    {
     "data": {
      "text/markdown": [
       "<span style=\"color:#33cc99\">Solution:</span> In this case, the categorical scatter plot from **Step 7** is the more appropriate plot. While both plots tell the desired story, the plot from **Step 6** conveys far more information that could distract from the main point."
      ],
      "text/plain": [
       "Solution: In this case, the categorical scatter plot from **Step 7** is the more appropriate plot. While both plots tell the desired story, the plot from **Step 6** conveys far more information that could distract from the main point."
      ]
     },
     "metadata": {},
     "output_type": "display_data"
    }
   ],
   "source": [
    "# Check your answer (Run this code cell to receive credit!)\n",
    "step_7.b.solution()"
   ]
  },
  {
   "cell_type": "markdown",
   "id": "imported-soldier",
   "metadata": {
    "papermill": {
     "duration": 0.045149,
     "end_time": "2021-05-23T04:29:38.602441",
     "exception": false,
     "start_time": "2021-05-23T04:29:38.557292",
     "status": "completed"
    },
    "tags": []
   },
   "source": [
    "## Keep going\n",
    "\n",
    "Explore **[histograms and density plots](https://www.kaggle.com/alexisbcook/distributions)**."
   ]
  },
  {
   "cell_type": "markdown",
   "id": "nasty-account",
   "metadata": {
    "papermill": {
     "duration": 0.045373,
     "end_time": "2021-05-23T04:29:38.694467",
     "exception": false,
     "start_time": "2021-05-23T04:29:38.649094",
     "status": "completed"
    },
    "tags": []
   },
   "source": [
    "---\n",
    "\n",
    "\n",
    "\n",
    "\n",
    "*Have questions or comments? Visit the [Learn Discussion forum](https://www.kaggle.com/learn-forum/161291) to chat with other Learners.*"
   ]
  }
 ],
 "metadata": {
  "kernelspec": {
   "display_name": "Python 3",
   "language": "python",
   "name": "python3"
  },
  "language_info": {
   "codemirror_mode": {
    "name": "ipython",
    "version": 3
   },
   "file_extension": ".py",
   "mimetype": "text/x-python",
   "name": "python",
   "nbconvert_exporter": "python",
   "pygments_lexer": "ipython3",
   "version": "3.7.9"
  },
  "papermill": {
   "default_parameters": {},
   "duration": 12.891809,
   "end_time": "2021-05-23T04:29:39.451114",
   "environment_variables": {},
   "exception": null,
   "input_path": "__notebook__.ipynb",
   "output_path": "__notebook__.ipynb",
   "parameters": {},
   "start_time": "2021-05-23T04:29:26.559305",
   "version": "2.3.2"
  }
 },
 "nbformat": 4,
 "nbformat_minor": 5
}
